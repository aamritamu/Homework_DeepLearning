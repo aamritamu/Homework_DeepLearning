{
 "cells": [
  {
   "cell_type": "markdown",
   "metadata": {},
   "source": [
    "# LSTM Stock Predictor Using Fear and Greed Index\n",
    "\n",
    "In this notebook, you will build and train a custom LSTM RNN that uses a 10 day window of Bitcoin fear and greed index values to predict the 11th day closing price. \n",
    "\n",
    "You will need to:\n",
    "\n",
    "1. Prepare the data for training and testing\n",
    "2. Build and train a custom LSTM RNN\n",
    "3. Evaluate the performance of the model"
   ]
  },
  {
   "cell_type": "markdown",
   "metadata": {},
   "source": [
    "## Data Preparation\n",
    "\n",
    "In this section, you will need to prepare the training and testing data for the model. The model will use a rolling 10 day window to predict the 11th day closing price.\n",
    "\n",
    "You will need to:\n",
    "1. Use the `window_data` function to generate the X and y values for the model.\n",
    "2. Split the data into 70% training and 30% testing\n",
    "3. Apply the MinMaxScaler to the X and y values\n",
    "4. Reshape the X_train and X_test data for the model. Note: The required input format for the LSTM is:\n",
    "\n",
    "```python\n",
    "reshape((X_train.shape[0], X_train.shape[1], 1))\n",
    "```"
   ]
  },
  {
   "cell_type": "code",
   "execution_count": 44,
   "metadata": {},
   "outputs": [],
   "source": [
    "import numpy as np\n",
    "import pandas as pd\n",
    "import hvplot.pandas\n",
    "\n",
    "%matplotlib inline\n",
    "from sklearn.model_selection import train_test_split"
   ]
  },
  {
   "cell_type": "code",
   "execution_count": 45,
   "metadata": {},
   "outputs": [],
   "source": [
    "# Set the random seed for reproducibility\n",
    "# Note: This is for the homework solution, but it is good practice to comment this out and run multiple experiments to evaluate your model\n",
    "from numpy.random import seed\n",
    "seed(1)\n",
    "from tensorflow import random\n",
    "random.set_seed(2)"
   ]
  },
  {
   "cell_type": "code",
   "execution_count": 46,
   "metadata": {},
   "outputs": [
    {
     "data": {
      "text/html": [
       "<div>\n",
       "<style scoped>\n",
       "    .dataframe tbody tr th:only-of-type {\n",
       "        vertical-align: middle;\n",
       "    }\n",
       "\n",
       "    .dataframe tbody tr th {\n",
       "        vertical-align: top;\n",
       "    }\n",
       "\n",
       "    .dataframe thead th {\n",
       "        text-align: right;\n",
       "    }\n",
       "</style>\n",
       "<table border=\"1\" class=\"dataframe\">\n",
       "  <thead>\n",
       "    <tr style=\"text-align: right;\">\n",
       "      <th></th>\n",
       "      <th>fng_value</th>\n",
       "    </tr>\n",
       "    <tr>\n",
       "      <th>date</th>\n",
       "      <th></th>\n",
       "    </tr>\n",
       "  </thead>\n",
       "  <tbody>\n",
       "    <tr>\n",
       "      <th>2019-07-29</th>\n",
       "      <td>19</td>\n",
       "    </tr>\n",
       "    <tr>\n",
       "      <th>2019-07-28</th>\n",
       "      <td>16</td>\n",
       "    </tr>\n",
       "    <tr>\n",
       "      <th>2019-07-27</th>\n",
       "      <td>47</td>\n",
       "    </tr>\n",
       "    <tr>\n",
       "      <th>2019-07-26</th>\n",
       "      <td>24</td>\n",
       "    </tr>\n",
       "    <tr>\n",
       "      <th>2019-07-25</th>\n",
       "      <td>42</td>\n",
       "    </tr>\n",
       "  </tbody>\n",
       "</table>\n",
       "</div>"
      ],
      "text/plain": [
       "             fng_value\n",
       "date                  \n",
       "2019-07-29          19\n",
       "2019-07-28          16\n",
       "2019-07-27          47\n",
       "2019-07-26          24\n",
       "2019-07-25          42"
      ]
     },
     "execution_count": 46,
     "metadata": {},
     "output_type": "execute_result"
    }
   ],
   "source": [
    "# Load the fear and greed sentiment data for Bitcoin\n",
    "df = pd.read_csv('btc_sentiment.csv', index_col=\"date\", infer_datetime_format=True, parse_dates=True)\n",
    "df = df.drop(columns=\"fng_classification\")\n",
    "df.head()"
   ]
  },
  {
   "cell_type": "code",
   "execution_count": 47,
   "metadata": {},
   "outputs": [
    {
     "data": {
      "text/plain": [
       "Date\n",
       "2019-07-25    9882.429688\n",
       "2019-07-26    9847.450195\n",
       "2019-07-27    9478.320313\n",
       "2019-07-28    9531.769531\n",
       "2019-07-29    9529.889648\n",
       "Name: Close, dtype: float64"
      ]
     },
     "execution_count": 47,
     "metadata": {},
     "output_type": "execute_result"
    }
   ],
   "source": [
    "# Load the historical closing prices for Bitcoin\n",
    "df2 = pd.read_csv('btc_historic.csv', index_col=\"Date\", infer_datetime_format=True, parse_dates=True)['Close']\n",
    "df2 = df2.sort_index()\n",
    "df2.tail()"
   ]
  },
  {
   "cell_type": "code",
   "execution_count": 48,
   "metadata": {},
   "outputs": [
    {
     "data": {
      "text/html": [
       "<div>\n",
       "<style scoped>\n",
       "    .dataframe tbody tr th:only-of-type {\n",
       "        vertical-align: middle;\n",
       "    }\n",
       "\n",
       "    .dataframe tbody tr th {\n",
       "        vertical-align: top;\n",
       "    }\n",
       "\n",
       "    .dataframe thead th {\n",
       "        text-align: right;\n",
       "    }\n",
       "</style>\n",
       "<table border=\"1\" class=\"dataframe\">\n",
       "  <thead>\n",
       "    <tr style=\"text-align: right;\">\n",
       "      <th></th>\n",
       "      <th>fng_value</th>\n",
       "      <th>Close</th>\n",
       "    </tr>\n",
       "  </thead>\n",
       "  <tbody>\n",
       "    <tr>\n",
       "      <th>2019-07-25</th>\n",
       "      <td>42</td>\n",
       "      <td>9882.429688</td>\n",
       "    </tr>\n",
       "    <tr>\n",
       "      <th>2019-07-26</th>\n",
       "      <td>24</td>\n",
       "      <td>9847.450195</td>\n",
       "    </tr>\n",
       "    <tr>\n",
       "      <th>2019-07-27</th>\n",
       "      <td>47</td>\n",
       "      <td>9478.320313</td>\n",
       "    </tr>\n",
       "    <tr>\n",
       "      <th>2019-07-28</th>\n",
       "      <td>16</td>\n",
       "      <td>9531.769531</td>\n",
       "    </tr>\n",
       "    <tr>\n",
       "      <th>2019-07-29</th>\n",
       "      <td>19</td>\n",
       "      <td>9529.889648</td>\n",
       "    </tr>\n",
       "  </tbody>\n",
       "</table>\n",
       "</div>"
      ],
      "text/plain": [
       "             fng_value        Close\n",
       "2019-07-25          42  9882.429688\n",
       "2019-07-26          24  9847.450195\n",
       "2019-07-27          47  9478.320313\n",
       "2019-07-28          16  9531.769531\n",
       "2019-07-29          19  9529.889648"
      ]
     },
     "execution_count": 48,
     "metadata": {},
     "output_type": "execute_result"
    }
   ],
   "source": [
    "# Join the data into a single DataFrame\n",
    "df = df.join(df2, how=\"inner\")\n",
    "df.tail()"
   ]
  },
  {
   "cell_type": "code",
   "execution_count": 49,
   "metadata": {},
   "outputs": [
    {
     "data": {
      "text/html": [
       "<div>\n",
       "<style scoped>\n",
       "    .dataframe tbody tr th:only-of-type {\n",
       "        vertical-align: middle;\n",
       "    }\n",
       "\n",
       "    .dataframe tbody tr th {\n",
       "        vertical-align: top;\n",
       "    }\n",
       "\n",
       "    .dataframe thead th {\n",
       "        text-align: right;\n",
       "    }\n",
       "</style>\n",
       "<table border=\"1\" class=\"dataframe\">\n",
       "  <thead>\n",
       "    <tr style=\"text-align: right;\">\n",
       "      <th></th>\n",
       "      <th>fng_value</th>\n",
       "      <th>Close</th>\n",
       "    </tr>\n",
       "  </thead>\n",
       "  <tbody>\n",
       "    <tr>\n",
       "      <th>2018-02-01</th>\n",
       "      <td>30</td>\n",
       "      <td>9114.719727</td>\n",
       "    </tr>\n",
       "    <tr>\n",
       "      <th>2018-02-02</th>\n",
       "      <td>15</td>\n",
       "      <td>8870.820313</td>\n",
       "    </tr>\n",
       "    <tr>\n",
       "      <th>2018-02-03</th>\n",
       "      <td>40</td>\n",
       "      <td>9251.269531</td>\n",
       "    </tr>\n",
       "    <tr>\n",
       "      <th>2018-02-04</th>\n",
       "      <td>24</td>\n",
       "      <td>8218.049805</td>\n",
       "    </tr>\n",
       "    <tr>\n",
       "      <th>2018-02-05</th>\n",
       "      <td>11</td>\n",
       "      <td>6937.080078</td>\n",
       "    </tr>\n",
       "  </tbody>\n",
       "</table>\n",
       "</div>"
      ],
      "text/plain": [
       "             fng_value        Close\n",
       "2018-02-01          30  9114.719727\n",
       "2018-02-02          15  8870.820313\n",
       "2018-02-03          40  9251.269531\n",
       "2018-02-04          24  8218.049805\n",
       "2018-02-05          11  6937.080078"
      ]
     },
     "execution_count": 49,
     "metadata": {},
     "output_type": "execute_result"
    }
   ],
   "source": [
    "df.head()"
   ]
  },
  {
   "cell_type": "code",
   "execution_count": 50,
   "metadata": {},
   "outputs": [],
   "source": [
    "# This function accepts the column number for the features (X) and the target (y)\n",
    "# It chunks the data up with a rolling window of Xt-n to predict Xt\n",
    "# It returns a numpy array of X any y\n",
    "def window_data(df, window, feature_col_number, target_col_number):\n",
    "    X = []\n",
    "    y = []\n",
    "    for i in range(len(df) - window - 1):\n",
    "        features = df.iloc[i:(i + window), feature_col_number]\n",
    "        target = df.iloc[(i + window), target_col_number]\n",
    "        X.append(features)\n",
    "        y.append(target)\n",
    "    return np.array(X), np.array(y).reshape(-1, 1)"
   ]
  },
  {
   "cell_type": "code",
   "execution_count": 51,
   "metadata": {},
   "outputs": [],
   "source": [
    "# Predict Closing Prices using a 10 day window of fear and greed index values and a target of the 11th day closing price\n",
    "# Try a window size anywhere from 1 to 10 and see how the model performance changes\n",
    "window_size = 1\n",
    "\n",
    "# Column index 1 is the `Close` column\n",
    "feature_column = 0\n",
    "target_column = 1\n",
    "X, y = window_data(df, window_size, feature_column, target_column)"
   ]
  },
  {
   "cell_type": "code",
   "execution_count": 52,
   "metadata": {},
   "outputs": [],
   "source": [
    "# Use 70% of the data for training and the remainder for testing\n",
    "split = int(0.7 * len(X))\n",
    "\n",
    "X_train = X[: split - 1]\n",
    "X_test = X[split:]\n",
    "\n",
    "y_train = y[: split - 1]\n",
    "y_test = y[split:]"
   ]
  },
  {
   "cell_type": "code",
   "execution_count": 53,
   "metadata": {},
   "outputs": [],
   "source": [
    "# Use MinMaxScaler to scale the data between 0 and 1. \n",
    "from sklearn.preprocessing import MinMaxScaler\n",
    "scaler = MinMaxScaler()\n",
    "scaler.fit(X)\n",
    "X_train = scaler.transform(X_train)\n",
    "X_test = scaler.transform(X_test)\n",
    "y_train = scaler.transform(y_train)\n",
    "y_test = scaler.transform(y_test)"
   ]
  },
  {
   "cell_type": "code",
   "execution_count": 54,
   "metadata": {},
   "outputs": [],
   "source": [
    "# Reshape the features for the model\n",
    "# YOUR CODE HERE!\n",
    "X_train= X_train.reshape((X_train.shape[0], X_train.shape[1], 1))\n",
    "X_test =  X_test.reshape((X_test.shape[0], X_test.shape[1], 1))\n"
   ]
  },
  {
   "cell_type": "markdown",
   "metadata": {},
   "source": [
    "---"
   ]
  },
  {
   "cell_type": "code",
   "execution_count": 55,
   "metadata": {
    "jupyter": {
     "source_hidden": true
    }
   },
   "outputs": [],
   "source": [
    "#scaler = MinMaxScaler()\n",
    "#scaler.fit(y)\n",
    "#y_train = scaler.transform(y_train)\n",
    "#y_test = scaler.transform(y_test)"
   ]
  },
  {
   "cell_type": "markdown",
   "metadata": {},
   "source": [
    "## Build and Train the LSTM RNN\n",
    "\n",
    "In this section, you will design a custom LSTM RNN and fit (train) it using the training data.\n",
    "\n",
    "You will need to:\n",
    "1. Define the model architecture\n",
    "2. Compile the model\n",
    "3. Fit the model to the training data\n",
    "\n",
    "### Hints:\n",
    "You will want to use the same model architecture and random seed for both notebooks. This is necessary to accurately compare the performance of the FNG model vs the closing price model. "
   ]
  },
  {
   "cell_type": "code",
   "execution_count": 56,
   "metadata": {},
   "outputs": [],
   "source": [
    "from tensorflow.keras.models import Sequential\n",
    "from tensorflow.keras.layers import LSTM, Dense, Dropout"
   ]
  },
  {
   "cell_type": "code",
   "execution_count": 57,
   "metadata": {},
   "outputs": [],
   "source": [
    "# Build the LSTM model. \n",
    "# The return sequences need to be set to True if you are adding additional LSTM layers, but \n",
    "# You don't have to do this for the final layer. \n",
    "# YOUR CODE HERE!\n",
    "# Define the LSTM RNN model.\n",
    "model = Sequential()\n",
    "\n",
    "# Initial model setup\n",
    "number_units = 30\n",
    "dropout_fraction = 0.2\n",
    "\n",
    "# Layer 1\n",
    "model.add(LSTM(\n",
    "    units=number_units,\n",
    "    return_sequences=True,\n",
    "    input_shape=(X_train.shape[1], 1))\n",
    "    )\n",
    "model.add(Dropout(dropout_fraction))\n",
    "\n",
    "# Layer 2\n",
    "model.add(LSTM(units=number_units, return_sequences=True))\n",
    "model.add(Dropout(dropout_fraction))\n",
    "\n",
    "# Layer 3\n",
    "model.add(LSTM(units=number_units))\n",
    "model.add(Dropout(dropout_fraction))\n",
    "\n",
    "# Output layer\n",
    "model.add(Dense(1))"
   ]
  },
  {
   "cell_type": "code",
   "execution_count": 58,
   "metadata": {},
   "outputs": [],
   "source": [
    "# Compile the model\n",
    "# YOUR CODE HERE!\n",
    "model.compile(optimizer=\"adam\", loss=\"mean_squared_error\")"
   ]
  },
  {
   "cell_type": "code",
   "execution_count": 59,
   "metadata": {},
   "outputs": [
    {
     "name": "stdout",
     "output_type": "stream",
     "text": [
      "Model: \"sequential_2\"\n",
      "_________________________________________________________________\n",
      "Layer (type)                 Output Shape              Param #   \n",
      "=================================================================\n",
      "lstm_6 (LSTM)                (None, 1, 30)             3840      \n",
      "_________________________________________________________________\n",
      "dropout_6 (Dropout)          (None, 1, 30)             0         \n",
      "_________________________________________________________________\n",
      "lstm_7 (LSTM)                (None, 1, 30)             7320      \n",
      "_________________________________________________________________\n",
      "dropout_7 (Dropout)          (None, 1, 30)             0         \n",
      "_________________________________________________________________\n",
      "lstm_8 (LSTM)                (None, 30)                7320      \n",
      "_________________________________________________________________\n",
      "dropout_8 (Dropout)          (None, 30)                0         \n",
      "_________________________________________________________________\n",
      "dense_2 (Dense)              (None, 1)                 31        \n",
      "=================================================================\n",
      "Total params: 18,511\n",
      "Trainable params: 18,511\n",
      "Non-trainable params: 0\n",
      "_________________________________________________________________\n"
     ]
    }
   ],
   "source": [
    "# Summarize the model\n",
    "# YOUR CODE HERE!\n",
    "model.summary()"
   ]
  },
  {
   "cell_type": "code",
   "execution_count": 60,
   "metadata": {},
   "outputs": [
    {
     "name": "stdout",
     "output_type": "stream",
     "text": [
      "Epoch 1/100\n",
      "5/5 [==============================] - 0s 3ms/step - loss: 6271.3540\n",
      "Epoch 2/100\n",
      "5/5 [==============================] - 0s 3ms/step - loss: 6269.1650\n",
      "Epoch 3/100\n",
      "5/5 [==============================] - 0s 3ms/step - loss: 6266.8833\n",
      "Epoch 4/100\n",
      "5/5 [==============================] - 0s 3ms/step - loss: 6264.2759\n",
      "Epoch 5/100\n",
      "5/5 [==============================] - 0s 3ms/step - loss: 6261.3179\n",
      "Epoch 6/100\n",
      "5/5 [==============================] - 0s 3ms/step - loss: 6257.9697\n",
      "Epoch 7/100\n",
      "5/5 [==============================] - 0s 3ms/step - loss: 6254.0039\n",
      "Epoch 8/100\n",
      "5/5 [==============================] - 0s 2ms/step - loss: 6249.3428\n",
      "Epoch 9/100\n",
      "5/5 [==============================] - 0s 2ms/step - loss: 6243.6479\n",
      "Epoch 10/100\n",
      "5/5 [==============================] - 0s 2ms/step - loss: 6236.0552\n",
      "Epoch 11/100\n",
      "5/5 [==============================] - 0s 3ms/step - loss: 6227.8716\n",
      "Epoch 12/100\n",
      "5/5 [==============================] - 0s 3ms/step - loss: 6216.7666\n",
      "Epoch 13/100\n",
      "5/5 [==============================] - 0s 4ms/step - loss: 6203.8633\n",
      "Epoch 14/100\n",
      "5/5 [==============================] - 0s 3ms/step - loss: 6185.8599\n",
      "Epoch 15/100\n",
      "5/5 [==============================] - 0s 3ms/step - loss: 6165.6245\n",
      "Epoch 16/100\n",
      "5/5 [==============================] - 0s 3ms/step - loss: 6135.2339\n",
      "Epoch 17/100\n",
      "5/5 [==============================] - 0s 2ms/step - loss: 6101.9409\n",
      "Epoch 18/100\n",
      "5/5 [==============================] - 0s 2ms/step - loss: 6054.9888\n",
      "Epoch 19/100\n",
      "5/5 [==============================] - 0s 3ms/step - loss: 5999.5854\n",
      "Epoch 20/100\n",
      "5/5 [==============================] - 0s 3ms/step - loss: 5934.9336\n",
      "Epoch 21/100\n",
      "5/5 [==============================] - 0s 3ms/step - loss: 5862.2925\n",
      "Epoch 22/100\n",
      "5/5 [==============================] - 0s 3ms/step - loss: 5767.1753\n",
      "Epoch 23/100\n",
      "5/5 [==============================] - 0s 3ms/step - loss: 5672.1836\n",
      "Epoch 24/100\n",
      "5/5 [==============================] - 0s 3ms/step - loss: 5570.4966\n",
      "Epoch 25/100\n",
      "5/5 [==============================] - 0s 3ms/step - loss: 5455.1177\n",
      "Epoch 26/100\n",
      "5/5 [==============================] - 0s 2ms/step - loss: 5367.4507\n",
      "Epoch 27/100\n",
      "5/5 [==============================] - 0s 3ms/step - loss: 5257.9595\n",
      "Epoch 28/100\n",
      "5/5 [==============================] - 0s 2ms/step - loss: 5186.1924\n",
      "Epoch 29/100\n",
      "5/5 [==============================] - 0s 3ms/step - loss: 5103.0547\n",
      "Epoch 30/100\n",
      "5/5 [==============================] - 0s 3ms/step - loss: 5041.1763\n",
      "Epoch 31/100\n",
      "5/5 [==============================] - 0s 2ms/step - loss: 4973.2803\n",
      "Epoch 32/100\n",
      "5/5 [==============================] - 0s 3ms/step - loss: 4907.0605\n",
      "Epoch 33/100\n",
      "5/5 [==============================] - 0s 3ms/step - loss: 4858.6367\n",
      "Epoch 34/100\n",
      "5/5 [==============================] - 0s 3ms/step - loss: 4827.1060\n",
      "Epoch 35/100\n",
      "5/5 [==============================] - 0s 2ms/step - loss: 4781.0376\n",
      "Epoch 36/100\n",
      "5/5 [==============================] - 0s 2ms/step - loss: 4748.9170\n",
      "Epoch 37/100\n",
      "5/5 [==============================] - 0s 2ms/step - loss: 4705.2759\n",
      "Epoch 38/100\n",
      "5/5 [==============================] - 0s 2ms/step - loss: 4671.1118\n",
      "Epoch 39/100\n",
      "5/5 [==============================] - 0s 3ms/step - loss: 4648.5762\n",
      "Epoch 40/100\n",
      "5/5 [==============================] - 0s 3ms/step - loss: 4620.4551\n",
      "Epoch 41/100\n",
      "5/5 [==============================] - 0s 3ms/step - loss: 4606.8003\n",
      "Epoch 42/100\n",
      "5/5 [==============================] - 0s 2ms/step - loss: 4554.6689\n",
      "Epoch 43/100\n",
      "5/5 [==============================] - 0s 3ms/step - loss: 4564.3076\n",
      "Epoch 44/100\n",
      "5/5 [==============================] - 0s 3ms/step - loss: 4525.9189\n",
      "Epoch 45/100\n",
      "5/5 [==============================] - 0s 2ms/step - loss: 4495.8452\n",
      "Epoch 46/100\n",
      "5/5 [==============================] - 0s 2ms/step - loss: 4475.8433\n",
      "Epoch 47/100\n",
      "5/5 [==============================] - 0s 3ms/step - loss: 4447.3828\n",
      "Epoch 48/100\n",
      "5/5 [==============================] - 0s 2ms/step - loss: 4437.1753\n",
      "Epoch 49/100\n",
      "5/5 [==============================] - 0s 3ms/step - loss: 4411.8345\n",
      "Epoch 50/100\n",
      "5/5 [==============================] - 0s 3ms/step - loss: 4387.1841\n",
      "Epoch 51/100\n",
      "5/5 [==============================] - 0s 3ms/step - loss: 4365.0903\n",
      "Epoch 52/100\n",
      "5/5 [==============================] - 0s 2ms/step - loss: 4350.8438\n",
      "Epoch 53/100\n",
      "5/5 [==============================] - 0s 3ms/step - loss: 4322.2534\n",
      "Epoch 54/100\n",
      "5/5 [==============================] - 0s 2ms/step - loss: 4309.5024\n",
      "Epoch 55/100\n",
      "5/5 [==============================] - 0s 3ms/step - loss: 4273.9810\n",
      "Epoch 56/100\n",
      "5/5 [==============================] - 0s 3ms/step - loss: 4255.4849\n",
      "Epoch 57/100\n",
      "5/5 [==============================] - 0s 3ms/step - loss: 4255.3472\n",
      "Epoch 58/100\n",
      "5/5 [==============================] - 0s 3ms/step - loss: 4235.1626\n",
      "Epoch 59/100\n",
      "5/5 [==============================] - 0s 3ms/step - loss: 4214.0986\n",
      "Epoch 60/100\n",
      "5/5 [==============================] - 0s 3ms/step - loss: 4203.1870\n",
      "Epoch 61/100\n",
      "5/5 [==============================] - 0s 3ms/step - loss: 4176.6060\n",
      "Epoch 62/100\n",
      "5/5 [==============================] - 0s 3ms/step - loss: 4163.1357\n",
      "Epoch 63/100\n",
      "5/5 [==============================] - 0s 3ms/step - loss: 4151.2808\n",
      "Epoch 64/100\n",
      "5/5 [==============================] - 0s 2ms/step - loss: 4132.3672\n",
      "Epoch 65/100\n",
      "5/5 [==============================] - 0s 3ms/step - loss: 4119.0713\n",
      "Epoch 66/100\n",
      "5/5 [==============================] - 0s 3ms/step - loss: 4092.2043\n",
      "Epoch 67/100\n",
      "5/5 [==============================] - 0s 3ms/step - loss: 4084.2756\n",
      "Epoch 68/100\n",
      "5/5 [==============================] - 0s 3ms/step - loss: 4080.6370\n",
      "Epoch 69/100\n",
      "5/5 [==============================] - 0s 3ms/step - loss: 4038.2805\n",
      "Epoch 70/100\n",
      "5/5 [==============================] - 0s 3ms/step - loss: 4034.3591\n",
      "Epoch 71/100\n",
      "5/5 [==============================] - 0s 3ms/step - loss: 4021.2507\n",
      "Epoch 72/100\n",
      "5/5 [==============================] - 0s 4ms/step - loss: 4017.1506\n",
      "Epoch 73/100\n",
      "5/5 [==============================] - 0s 3ms/step - loss: 3996.5408\n",
      "Epoch 74/100\n",
      "5/5 [==============================] - 0s 3ms/step - loss: 3979.0151\n",
      "Epoch 75/100\n",
      "5/5 [==============================] - 0s 3ms/step - loss: 3959.5657\n",
      "Epoch 76/100\n",
      "5/5 [==============================] - 0s 3ms/step - loss: 3948.2417\n",
      "Epoch 77/100\n",
      "5/5 [==============================] - 0s 3ms/step - loss: 3929.4851\n",
      "Epoch 78/100\n",
      "5/5 [==============================] - 0s 3ms/step - loss: 3920.4851\n",
      "Epoch 79/100\n",
      "5/5 [==============================] - 0s 3ms/step - loss: 3879.9666\n",
      "Epoch 80/100\n",
      "5/5 [==============================] - 0s 3ms/step - loss: 3885.4739\n",
      "Epoch 81/100\n",
      "5/5 [==============================] - 0s 3ms/step - loss: 3876.6614\n",
      "Epoch 82/100\n",
      "5/5 [==============================] - 0s 3ms/step - loss: 3853.4609\n",
      "Epoch 83/100\n",
      "5/5 [==============================] - 0s 3ms/step - loss: 3839.3687\n",
      "Epoch 84/100\n",
      "5/5 [==============================] - 0s 3ms/step - loss: 3815.0457\n",
      "Epoch 85/100\n",
      "5/5 [==============================] - 0s 3ms/step - loss: 3840.5984\n",
      "Epoch 86/100\n",
      "5/5 [==============================] - 0s 3ms/step - loss: 3793.3955\n",
      "Epoch 87/100\n",
      "5/5 [==============================] - 0s 3ms/step - loss: 3779.2332\n",
      "Epoch 88/100\n",
      "5/5 [==============================] - 0s 3ms/step - loss: 3780.4197\n",
      "Epoch 89/100\n",
      "5/5 [==============================] - 0s 2ms/step - loss: 3761.1370\n",
      "Epoch 90/100\n",
      "5/5 [==============================] - 0s 2ms/step - loss: 3753.5332\n",
      "Epoch 91/100\n",
      "5/5 [==============================] - 0s 3ms/step - loss: 3751.9575\n",
      "Epoch 92/100\n",
      "5/5 [==============================] - 0s 2ms/step - loss: 3711.5525\n",
      "Epoch 93/100\n",
      "5/5 [==============================] - 0s 3ms/step - loss: 3692.3481\n",
      "Epoch 94/100\n",
      "5/5 [==============================] - 0s 2ms/step - loss: 3702.4265\n",
      "Epoch 95/100\n",
      "5/5 [==============================] - 0s 2ms/step - loss: 3684.1045\n",
      "Epoch 96/100\n",
      "5/5 [==============================] - 0s 2ms/step - loss: 3666.4553\n",
      "Epoch 97/100\n",
      "5/5 [==============================] - 0s 2ms/step - loss: 3662.5896\n",
      "Epoch 98/100\n",
      "5/5 [==============================] - 0s 2ms/step - loss: 3640.9299\n",
      "Epoch 99/100\n",
      "5/5 [==============================] - 0s 2ms/step - loss: 3632.4407\n",
      "Epoch 100/100\n",
      "5/5 [==============================] - 0s 2ms/step - loss: 3638.1777\n"
     ]
    },
    {
     "data": {
      "text/plain": [
       "<tensorflow.python.keras.callbacks.History at 0x2251615e108>"
      ]
     },
     "execution_count": 60,
     "metadata": {},
     "output_type": "execute_result"
    }
   ],
   "source": [
    "# Train the model\n",
    "# Use at least 10 epochs\n",
    "# Do not shuffle the data\n",
    "# Experiement with the batch size, but a smaller batch size is recommended\n",
    "# YOUR CODE HERE!\n",
    "model.fit(X_train, y_train, epochs=100, shuffle=False, batch_size=90, verbose=1)"
   ]
  },
  {
   "cell_type": "markdown",
   "metadata": {},
   "source": [
    "---"
   ]
  },
  {
   "cell_type": "markdown",
   "metadata": {},
   "source": [
    "## Model Performance\n",
    "\n",
    "In this section, you will evaluate the model using the test data. \n",
    "\n",
    "You will need to:\n",
    "1. Evaluate the model using the `X_test` and `y_test` data.\n",
    "2. Use the X_test data to make predictions\n",
    "3. Create a DataFrame of Real (y_test) vs predicted values. \n",
    "4. Plot the Real vs predicted values as a line chart\n",
    "\n",
    "### Hints\n",
    "Remember to apply the `inverse_transform` function to the predicted and y_test values to recover the actual closing prices."
   ]
  },
  {
   "cell_type": "code",
   "execution_count": 61,
   "metadata": {},
   "outputs": [
    {
     "data": {
      "text/plain": [
       "4559.81591796875"
      ]
     },
     "execution_count": 61,
     "metadata": {},
     "output_type": "execute_result"
    }
   ],
   "source": [
    "# Evaluate the model\n",
    "# YOUR CODE HERE!\n",
    "model.evaluate(X_test, y_test, verbose=0)"
   ]
  },
  {
   "cell_type": "code",
   "execution_count": 62,
   "metadata": {},
   "outputs": [],
   "source": [
    "# Make some predictions\n",
    "# YOUR CODE HERE!\n",
    "predicted = model.predict(X_test)"
   ]
  },
  {
   "cell_type": "code",
   "execution_count": 63,
   "metadata": {},
   "outputs": [],
   "source": [
    "# Recover the original prices instead of the scaled version\n",
    "predicted_prices = scaler.inverse_transform(predicted)\n",
    "real_prices = scaler.inverse_transform(y_test.reshape(-1, 1))"
   ]
  },
  {
   "cell_type": "code",
   "execution_count": 64,
   "metadata": {},
   "outputs": [
    {
     "data": {
      "text/html": [
       "<div>\n",
       "<style scoped>\n",
       "    .dataframe tbody tr th:only-of-type {\n",
       "        vertical-align: middle;\n",
       "    }\n",
       "\n",
       "    .dataframe tbody tr th {\n",
       "        vertical-align: top;\n",
       "    }\n",
       "\n",
       "    .dataframe thead th {\n",
       "        text-align: right;\n",
       "    }\n",
       "</style>\n",
       "<table border=\"1\" class=\"dataframe\">\n",
       "  <thead>\n",
       "    <tr style=\"text-align: right;\">\n",
       "      <th></th>\n",
       "      <th>Real</th>\n",
       "      <th>Predicted</th>\n",
       "    </tr>\n",
       "  </thead>\n",
       "  <tbody>\n",
       "    <tr>\n",
       "      <th>0</th>\n",
       "      <td>3670.919922</td>\n",
       "      <td>1777.904053</td>\n",
       "    </tr>\n",
       "    <tr>\n",
       "      <th>1</th>\n",
       "      <td>3670.919922</td>\n",
       "      <td>1777.745361</td>\n",
       "    </tr>\n",
       "    <tr>\n",
       "      <th>2</th>\n",
       "      <td>3912.570068</td>\n",
       "      <td>1777.474854</td>\n",
       "    </tr>\n",
       "    <tr>\n",
       "      <th>3</th>\n",
       "      <td>3924.239990</td>\n",
       "      <td>1778.887695</td>\n",
       "    </tr>\n",
       "    <tr>\n",
       "      <th>4</th>\n",
       "      <td>3974.050049</td>\n",
       "      <td>1778.946899</td>\n",
       "    </tr>\n",
       "  </tbody>\n",
       "</table>\n",
       "</div>"
      ],
      "text/plain": [
       "          Real    Predicted\n",
       "0  3670.919922  1777.904053\n",
       "1  3670.919922  1777.745361\n",
       "2  3912.570068  1777.474854\n",
       "3  3924.239990  1778.887695\n",
       "4  3974.050049  1778.946899"
      ]
     },
     "execution_count": 64,
     "metadata": {},
     "output_type": "execute_result"
    }
   ],
   "source": [
    "# Create a DataFrame of Real and Predicted values\n",
    "stocks = pd.DataFrame({\n",
    "    \"Real\": real_prices.ravel(),\n",
    "    \"Predicted\": predicted_prices.ravel()\n",
    "})\n",
    "stocks.head()"
   ]
  },
  {
   "cell_type": "code",
   "execution_count": 65,
   "metadata": {},
   "outputs": [
    {
     "data": {
      "text/plain": [
       "<matplotlib.axes._subplots.AxesSubplot at 0x2251f0445c8>"
      ]
     },
     "execution_count": 65,
     "metadata": {},
     "output_type": "execute_result"
    },
    {
     "data": {
      "image/png": "[encoded data removed]",
      "text/plain": [
       "<Figure size 432x288 with 1 Axes>"
      ]
     },
     "metadata": {
      "needs_background": "light"
     },
     "output_type": "display_data"
    }
   ],
   "source": [
    "# Plot the real vs predicted values as a line chart\n",
    "# YOUR CODE HERE!\n",
    "stocks.plot(title=\"Actual Vs. Predicted Gold Prices\")"
   ]
  }
 ],
 "metadata": {
  "file_extension": ".py",
  "kernelspec": {
   "display_name": "Python 3",
   "language": "python",
   "name": "python3"
  },
  "language_info": {
   "codemirror_mode": {
    "name": "ipython",
    "version": 3
   },
   "file_extension": ".py",
   "mimetype": "text/x-python",
   "name": "python",
   "nbconvert_exporter": "python",
   "pygments_lexer": "ipython3",
   "version": "3.7.7"
  },
  "mimetype": "text/x-python",
  "name": "python",
  "npconvert_exporter": "python",
  "pygments_lexer": "ipython3",
  "version": 3
 },
 "nbformat": 4,
 "nbformat_minor": 4
}
